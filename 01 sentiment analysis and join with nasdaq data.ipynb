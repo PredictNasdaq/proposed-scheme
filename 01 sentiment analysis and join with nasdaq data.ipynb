{
 "cells": [
  {
   "cell_type": "markdown",
   "metadata": {},
   "source": [
    "Trump Tweet Dataset"
   ]
  },
  {
   "cell_type": "code",
   "execution_count": 104,
   "metadata": {},
   "outputs": [],
   "source": [
    "import pandas as pd\n",
    "df = pd.read_csv(\"C:/Users/seonahryu/Desktop/urp/combined_output.csv\")"
   ]
  },
  {
   "cell_type": "code",
   "execution_count": 8,
   "metadata": {},
   "outputs": [
    {
     "data": {
      "text/html": [
       "<div>\n",
       "<style scoped>\n",
       "    .dataframe tbody tr th:only-of-type {\n",
       "        vertical-align: middle;\n",
       "    }\n",
       "\n",
       "    .dataframe tbody tr th {\n",
       "        vertical-align: top;\n",
       "    }\n",
       "\n",
       "    .dataframe thead th {\n",
       "        text-align: right;\n",
       "    }\n",
       "</style>\n",
       "<table border=\"1\" class=\"dataframe\">\n",
       "  <thead>\n",
       "    <tr style=\"text-align: right;\">\n",
       "      <th></th>\n",
       "      <th>status_id</th>\n",
       "      <th>author_name</th>\n",
       "      <th>user_id</th>\n",
       "      <th>post_time</th>\n",
       "      <th>post_content</th>\n",
       "    </tr>\n",
       "  </thead>\n",
       "  <tbody>\n",
       "    <tr>\n",
       "      <th>0</th>\n",
       "      <td>7136</td>\n",
       "      <td>MSG_Jack_Dona_RET</td>\n",
       "      <td>@MSG_Jack_Dona_RET</td>\n",
       "      <td>2023-12-26 13:44:00</td>\n",
       "      <td>All, please take 4 minutes to watch this video...</td>\n",
       "    </tr>\n",
       "    <tr>\n",
       "      <th>1</th>\n",
       "      <td>7228</td>\n",
       "      <td>Donald J. Trump</td>\n",
       "      <td>@realDonaldTrump</td>\n",
       "      <td>2023-12-26 14:11:00</td>\n",
       "      <td>Wow—Thank you Charlie!</td>\n",
       "    </tr>\n",
       "    <tr>\n",
       "      <th>2</th>\n",
       "      <td>7225</td>\n",
       "      <td>Donald J. Trump</td>\n",
       "      <td>@realDonaldTrump</td>\n",
       "      <td>2023-12-26 14:12:00</td>\n",
       "      <td>Thanks Derrick!</td>\n",
       "    </tr>\n",
       "    <tr>\n",
       "      <th>3</th>\n",
       "      <td>7216</td>\n",
       "      <td>Donald J. Trump</td>\n",
       "      <td>@realDonaldTrump</td>\n",
       "      <td>2023-12-26 14:15:00</td>\n",
       "      <td>Garrett Ventry: “The Colorado Supreme Court ta...</td>\n",
       "    </tr>\n",
       "    <tr>\n",
       "      <th>4</th>\n",
       "      <td>7214</td>\n",
       "      <td>Donald J. Trump</td>\n",
       "      <td>@realDonaldTrump</td>\n",
       "      <td>2023-12-26 14:16:00</td>\n",
       "      <td>“Trump’s MAGA force swamps the competition in ...</td>\n",
       "    </tr>\n",
       "  </tbody>\n",
       "</table>\n",
       "</div>"
      ],
      "text/plain": [
       "   status_id        author_name             user_id            post_time  \\\n",
       "0       7136  MSG_Jack_Dona_RET  @MSG_Jack_Dona_RET  2023-12-26 13:44:00   \n",
       "1       7228    Donald J. Trump    @realDonaldTrump  2023-12-26 14:11:00   \n",
       "2       7225    Donald J. Trump    @realDonaldTrump  2023-12-26 14:12:00   \n",
       "3       7216    Donald J. Trump    @realDonaldTrump  2023-12-26 14:15:00   \n",
       "4       7214    Donald J. Trump    @realDonaldTrump  2023-12-26 14:16:00   \n",
       "\n",
       "                                        post_content  \n",
       "0  All, please take 4 minutes to watch this video...  \n",
       "1                             Wow—Thank you Charlie!  \n",
       "2                                    Thanks Derrick!  \n",
       "3  Garrett Ventry: “The Colorado Supreme Court ta...  \n",
       "4  “Trump’s MAGA force swamps the competition in ...  "
      ]
     },
     "execution_count": 8,
     "metadata": {},
     "output_type": "execute_result"
    }
   ],
   "source": [
    "df.head(5)"
   ]
  },
  {
   "cell_type": "markdown",
   "metadata": {},
   "source": [
    "나스닥 지수 데이터셋"
   ]
  },
  {
   "cell_type": "code",
   "execution_count": 9,
   "metadata": {},
   "outputs": [],
   "source": [
    "import pandas as pd\n",
    "\n",
    "df_nasdaq = pd.read_csv(\"C:/Users/seonahryu/Desktop/urp/nasdaq_data_2023_2024.csv\")\n",
    "\n",
    "# 'Unnamed: 0' 열을 날짜로 변환\n",
    "df_nasdaq['date'] = pd.to_datetime(df_nasdaq['Unnamed: 0'])\n",
    "\n",
    "# 'Unnamed: 0' 열 제거\n",
    "df_nasdaq.drop(columns=['Unnamed: 0'], inplace=True)\n",
    "\n",
    "df_nasdaq.set_index('date', inplace=True)"
   ]
  },
  {
   "cell_type": "code",
   "execution_count": 66,
   "metadata": {},
   "outputs": [
    {
     "data": {
      "text/html": [
       "<div>\n",
       "<style scoped>\n",
       "    .dataframe tbody tr th:only-of-type {\n",
       "        vertical-align: middle;\n",
       "    }\n",
       "\n",
       "    .dataframe tbody tr th {\n",
       "        vertical-align: top;\n",
       "    }\n",
       "\n",
       "    .dataframe thead th {\n",
       "        text-align: right;\n",
       "    }\n",
       "</style>\n",
       "<table border=\"1\" class=\"dataframe\">\n",
       "  <thead>\n",
       "    <tr style=\"text-align: right;\">\n",
       "      <th></th>\n",
       "      <th>Open</th>\n",
       "      <th>High</th>\n",
       "      <th>Low</th>\n",
       "      <th>Close</th>\n",
       "      <th>Volume</th>\n",
       "      <th>Adj Close</th>\n",
       "    </tr>\n",
       "    <tr>\n",
       "      <th>date</th>\n",
       "      <th></th>\n",
       "      <th></th>\n",
       "      <th></th>\n",
       "      <th></th>\n",
       "      <th></th>\n",
       "      <th></th>\n",
       "    </tr>\n",
       "  </thead>\n",
       "  <tbody>\n",
       "    <tr>\n",
       "      <th>2023-12-26</th>\n",
       "      <td>15028.690430</td>\n",
       "      <td>15101.179688</td>\n",
       "      <td>15024.059570</td>\n",
       "      <td>15074.570312</td>\n",
       "      <td>6120600000</td>\n",
       "      <td>15074.570312</td>\n",
       "    </tr>\n",
       "    <tr>\n",
       "      <th>2023-12-27</th>\n",
       "      <td>15089.660156</td>\n",
       "      <td>15114.080078</td>\n",
       "      <td>15051.669922</td>\n",
       "      <td>15099.179688</td>\n",
       "      <td>7480170000</td>\n",
       "      <td>15099.179688</td>\n",
       "    </tr>\n",
       "    <tr>\n",
       "      <th>2023-12-28</th>\n",
       "      <td>15142.089844</td>\n",
       "      <td>15150.070312</td>\n",
       "      <td>15087.219727</td>\n",
       "      <td>15095.139648</td>\n",
       "      <td>5090570000</td>\n",
       "      <td>15095.139648</td>\n",
       "    </tr>\n",
       "    <tr>\n",
       "      <th>2023-12-29</th>\n",
       "      <td>15099.200195</td>\n",
       "      <td>15111.410156</td>\n",
       "      <td>14955.370117</td>\n",
       "      <td>15011.349609</td>\n",
       "      <td>5441060000</td>\n",
       "      <td>15011.349609</td>\n",
       "    </tr>\n",
       "    <tr>\n",
       "      <th>2024-01-02</th>\n",
       "      <td>14873.700195</td>\n",
       "      <td>14887.799805</td>\n",
       "      <td>14682.379883</td>\n",
       "      <td>14765.940430</td>\n",
       "      <td>5791170000</td>\n",
       "      <td>14765.940430</td>\n",
       "    </tr>\n",
       "    <tr>\n",
       "      <th>...</th>\n",
       "      <td>...</td>\n",
       "      <td>...</td>\n",
       "      <td>...</td>\n",
       "      <td>...</td>\n",
       "      <td>...</td>\n",
       "      <td>...</td>\n",
       "    </tr>\n",
       "    <tr>\n",
       "      <th>2024-12-18</th>\n",
       "      <td>20114.980469</td>\n",
       "      <td>20179.769531</td>\n",
       "      <td>19336.589844</td>\n",
       "      <td>19392.689453</td>\n",
       "      <td>9996120000</td>\n",
       "      <td>19392.689453</td>\n",
       "    </tr>\n",
       "    <tr>\n",
       "      <th>2024-12-19</th>\n",
       "      <td>19565.660156</td>\n",
       "      <td>19623.019531</td>\n",
       "      <td>19357.759766</td>\n",
       "      <td>19372.769531</td>\n",
       "      <td>8029590000</td>\n",
       "      <td>19372.769531</td>\n",
       "    </tr>\n",
       "    <tr>\n",
       "      <th>2024-12-20</th>\n",
       "      <td>19190.039062</td>\n",
       "      <td>19758.609375</td>\n",
       "      <td>19168.380859</td>\n",
       "      <td>19572.599609</td>\n",
       "      <td>10962450000</td>\n",
       "      <td>19572.599609</td>\n",
       "    </tr>\n",
       "    <tr>\n",
       "      <th>2024-12-23</th>\n",
       "      <td>19641.050781</td>\n",
       "      <td>19772.099609</td>\n",
       "      <td>19504.679688</td>\n",
       "      <td>19764.880859</td>\n",
       "      <td>6820720000</td>\n",
       "      <td>19764.880859</td>\n",
       "    </tr>\n",
       "    <tr>\n",
       "      <th>2024-12-24</th>\n",
       "      <td>19818.480469</td>\n",
       "      <td>20031.130859</td>\n",
       "      <td>19813.759766</td>\n",
       "      <td>20031.130859</td>\n",
       "      <td>4739190000</td>\n",
       "      <td>20031.130859</td>\n",
       "    </tr>\n",
       "  </tbody>\n",
       "</table>\n",
       "<p>252 rows × 6 columns</p>\n",
       "</div>"
      ],
      "text/plain": [
       "                    Open          High           Low         Close  \\\n",
       "date                                                                 \n",
       "2023-12-26  15028.690430  15101.179688  15024.059570  15074.570312   \n",
       "2023-12-27  15089.660156  15114.080078  15051.669922  15099.179688   \n",
       "2023-12-28  15142.089844  15150.070312  15087.219727  15095.139648   \n",
       "2023-12-29  15099.200195  15111.410156  14955.370117  15011.349609   \n",
       "2024-01-02  14873.700195  14887.799805  14682.379883  14765.940430   \n",
       "...                  ...           ...           ...           ...   \n",
       "2024-12-18  20114.980469  20179.769531  19336.589844  19392.689453   \n",
       "2024-12-19  19565.660156  19623.019531  19357.759766  19372.769531   \n",
       "2024-12-20  19190.039062  19758.609375  19168.380859  19572.599609   \n",
       "2024-12-23  19641.050781  19772.099609  19504.679688  19764.880859   \n",
       "2024-12-24  19818.480469  20031.130859  19813.759766  20031.130859   \n",
       "\n",
       "                 Volume     Adj Close  \n",
       "date                                   \n",
       "2023-12-26   6120600000  15074.570312  \n",
       "2023-12-27   7480170000  15099.179688  \n",
       "2023-12-28   5090570000  15095.139648  \n",
       "2023-12-29   5441060000  15011.349609  \n",
       "2024-01-02   5791170000  14765.940430  \n",
       "...                 ...           ...  \n",
       "2024-12-18   9996120000  19392.689453  \n",
       "2024-12-19   8029590000  19372.769531  \n",
       "2024-12-20  10962450000  19572.599609  \n",
       "2024-12-23   6820720000  19764.880859  \n",
       "2024-12-24   4739190000  20031.130859  \n",
       "\n",
       "[252 rows x 6 columns]"
      ]
     },
     "execution_count": 66,
     "metadata": {},
     "output_type": "execute_result"
    }
   ],
   "source": [
    "df_nasdaq"
   ]
  },
  {
   "cell_type": "code",
   "execution_count": 10,
   "metadata": {},
   "outputs": [
    {
     "data": {
      "text/plain": [
       "Text(0, 0.5, 'close price')"
      ]
     },
     "execution_count": 10,
     "metadata": {},
     "output_type": "execute_result"
    },
    {
     "data": {
      "image/png": "[encoded data removed]",
      "text/plain": [
       "<Figure size 1600x900 with 1 Axes>"
      ]
     },
     "metadata": {},
     "output_type": "display_data"
    }
   ],
   "source": [
    "import seaborn as sns\n",
    "import matplotlib.pyplot as plt\n",
    "\n",
    "plt.figure(figsize=(16,9))\n",
    "sns.lineplot(y=df_nasdaq['Close'], x=df_nasdaq.index)\n",
    "plt.xlabel('time')\n",
    "plt.ylabel('close price')"
   ]
  },
  {
   "cell_type": "markdown",
   "metadata": {},
   "source": [
    "### 감성분석"
   ]
  },
  {
   "cell_type": "markdown",
   "metadata": {},
   "source": [
    "VADER 감성분석"
   ]
  },
  {
   "cell_type": "code",
   "execution_count": 11,
   "metadata": {},
   "outputs": [
    {
     "name": "stderr",
     "output_type": "stream",
     "text": [
      "[nltk_data] Downloading package vader_lexicon to\n",
      "[nltk_data]     C:\\Users\\seonahryu\\AppData\\Roaming\\nltk_data...\n",
      "[nltk_data]   Package vader_lexicon is already up-to-date!\n"
     ]
    }
   ],
   "source": [
    "import nltk\n",
    "from nltk.sentiment.vader import SentimentIntensityAnalyzer\n",
    "\n",
    "nltk.download('vader_lexicon')\n",
    "sia = SentimentIntensityAnalyzer()"
   ]
  },
  {
   "cell_type": "code",
   "execution_count": 12,
   "metadata": {},
   "outputs": [],
   "source": [
    "def sentiment_analysis(text):\n",
    "    score = sia.polarity_scores(text)\n",
    "    return score['compound']"
   ]
  },
  {
   "cell_type": "code",
   "execution_count": 112,
   "metadata": {},
   "outputs": [
    {
     "name": "stdout",
     "output_type": "stream",
     "text": [
      "                                        post_content  vader_sentiment_score\n",
      "0  All, please take 4 minutes to watch this video...                -0.1511\n",
      "1                             Wow—Thank you Charlie!                 0.0000\n",
      "2                                    Thanks Derrick!                 0.4926\n",
      "3  Garrett Ventry: “The Colorado Supreme Court ta...                 0.5994\n",
      "4  “Trump’s MAGA force swamps the competition in ...                 0.0000\n",
      "5  “Yielding to Temptation: Colorado’s Supreme Co...                 0.4019\n",
      "6               “A New York Times Columnist Has TDS”                 0.0000\n",
      "7  “Why, in the Coming Election, the 2020 Result ...                 0.0000\n",
      "8  “Trump claims ‘atrocities we are witnessing in...                 0.0000\n",
      "9  “Trump Vows U.S. Tariffs on All Foreign Import...                 0.3818\n"
     ]
    }
   ],
   "source": [
    "df['vader_sentiment_score'] = df['post_content'].apply(sentiment_analysis)\n",
    "print(df[['post_content', 'vader_sentiment_score']].head(10))"
   ]
  },
  {
   "cell_type": "code",
   "execution_count": 14,
   "metadata": {},
   "outputs": [
    {
     "data": {
      "image/png": "[encoded data removed]",
      "text/plain": [
       "<Figure size 1000x600 with 1 Axes>"
      ]
     },
     "metadata": {},
     "output_type": "display_data"
    }
   ],
   "source": [
    "import seaborn as sns\n",
    "import matplotlib.pyplot as plt\n",
    "\n",
    "plt.figure(figsize=(10, 6))\n",
    "sns.histplot(df['vader_sentiment_score'], bins=30, kde=True)\n",
    "plt.title('VADER(compound score) Sentiment Score Distribution')\n",
    "plt.xlabel('Sentiment Score')\n",
    "plt.ylabel('Frequency')\n",
    "plt.axvline(x=0.1, color='red', linestyle='--')  # 0.1 점수를 기준으로 긍정과 부정을 나누기 위해 선 추가\n",
    "plt.axvline(x=0, color='green', linestyle='dotted') # 0 == 중립\n",
    "plt.show()"
   ]
  },
  {
   "cell_type": "code",
   "execution_count": 113,
   "metadata": {},
   "outputs": [],
   "source": [
    "threshold = 0.1 ### hyper-parameter!!!!\n",
    "\n",
    "# 감정 카테고리 정의\n",
    "df['final_vader_sentiment'] = 0  # 기본값을 0으로 설정\n",
    "df.loc[df['vader_sentiment_score'] > threshold, 'final_vader_sentiment'] = 1  # 긍정\n",
    "df.loc[df['vader_sentiment_score'] < -threshold, 'final_vader_sentiment'] = -1  # 부정"
   ]
  },
  {
   "cell_type": "code",
   "execution_count": 16,
   "metadata": {},
   "outputs": [
    {
     "name": "stdout",
     "output_type": "stream",
     "text": [
      "total : 7884개\n",
      "positive : 3825개\n",
      "negative : 2480개\n",
      "neutral : 1579개\n",
      "positive : 48.51598173515982%\n",
      "negative : 31.45611364789447%\n",
      "neutral : 20.027904616945712%\n"
     ]
    },
    {
     "data": {
      "image/png": "[encoded data removed]",
      "text/plain": [
       "<Figure size 800x500 with 1 Axes>"
      ]
     },
     "metadata": {},
     "output_type": "display_data"
    }
   ],
   "source": [
    "# 긍정과 부정 비율 계산\n",
    "positive_count = (df['final_vader_sentiment'] == 1).sum()\n",
    "negative_count = (df['final_vader_sentiment'] == -1).sum()\n",
    "neutral_count = (df['final_vader_sentiment'] == 0).sum()\n",
    "\n",
    "total_count = positive_count + negative_count + neutral_count\n",
    "\n",
    "print(f'total : {total_count}개')\n",
    "print(f'positive : {positive_count}개')\n",
    "print(f'negative : {negative_count}개')\n",
    "print(f'neutral : {neutral_count}개')\n",
    "\n",
    "positive_percentage = (positive_count / total_count) * 100\n",
    "negative_percentage = (negative_count / total_count) * 100\n",
    "neutral_percentage = (neutral_count / total_count) * 100\n",
    "\n",
    "print(f'positive : {positive_percentage}%')\n",
    "print(f'negative : {negative_percentage}%')\n",
    "print(f'neutral : {neutral_percentage}%')\n",
    "\n",
    "# 비율 데이터프레임 생성\n",
    "sentiment_distribution = pd.DataFrame({\n",
    "    'Sentiment': ['Positive', 'Negative', 'Neutral'],\n",
    "    'Percentage': [positive_percentage, negative_percentage, neutral_percentage]\n",
    "})\n",
    "\n",
    "# 비율 시각화\n",
    "plt.figure(figsize=(8, 5))\n",
    "sns.barplot(x='Sentiment', y='Percentage', data=sentiment_distribution)\n",
    "plt.title('Sentiment Distribution Using VADER')\n",
    "plt.xlabel('Sentiment')\n",
    "plt.ylabel('Percentage (%)')\n",
    "plt.ylim(0, 100)\n",
    "plt.show()"
   ]
  },
  {
   "cell_type": "markdown",
   "metadata": {},
   "source": [
    "RoBERTa"
   ]
  },
  {
   "cell_type": "code",
   "execution_count": 114,
   "metadata": {},
   "outputs": [
    {
     "name": "stdout",
     "output_type": "stream",
     "text": [
      "Processed 0 out of 7884 rows\n",
      "Processed 100 out of 7884 rows\n",
      "Processed 200 out of 7884 rows\n",
      "Processed 300 out of 7884 rows\n",
      "Processed 400 out of 7884 rows\n",
      "Processed 500 out of 7884 rows\n",
      "Processed 600 out of 7884 rows\n",
      "Processed 700 out of 7884 rows\n",
      "Processed 800 out of 7884 rows\n",
      "Processed 900 out of 7884 rows\n",
      "Processed 1000 out of 7884 rows\n",
      "Processed 1100 out of 7884 rows\n",
      "Processed 1200 out of 7884 rows\n",
      "Processed 1300 out of 7884 rows\n",
      "Processed 1400 out of 7884 rows\n",
      "Processed 1500 out of 7884 rows\n",
      "Processed 1600 out of 7884 rows\n",
      "Processed 1700 out of 7884 rows\n",
      "Processed 1800 out of 7884 rows\n",
      "Processed 1900 out of 7884 rows\n",
      "Processed 2000 out of 7884 rows\n",
      "Processed 2100 out of 7884 rows\n",
      "Processed 2200 out of 7884 rows\n",
      "Processed 2300 out of 7884 rows\n",
      "Processed 2400 out of 7884 rows\n",
      "Processed 2500 out of 7884 rows\n",
      "Processed 2600 out of 7884 rows\n",
      "Processed 2700 out of 7884 rows\n",
      "Processed 2800 out of 7884 rows\n",
      "Processed 2900 out of 7884 rows\n",
      "Processed 3000 out of 7884 rows\n",
      "Processed 3100 out of 7884 rows\n",
      "Processed 3200 out of 7884 rows\n",
      "Processed 3300 out of 7884 rows\n",
      "Processed 3400 out of 7884 rows\n",
      "Processed 3500 out of 7884 rows\n",
      "Processed 3600 out of 7884 rows\n",
      "Processed 3700 out of 7884 rows\n",
      "Processed 3800 out of 7884 rows\n",
      "Processed 3900 out of 7884 rows\n",
      "Processed 4000 out of 7884 rows\n",
      "Processed 4100 out of 7884 rows\n",
      "Processed 4200 out of 7884 rows\n",
      "Processed 4300 out of 7884 rows\n",
      "Processed 4400 out of 7884 rows\n",
      "Processed 4500 out of 7884 rows\n",
      "Processed 4600 out of 7884 rows\n",
      "Processed 4700 out of 7884 rows\n",
      "Processed 4800 out of 7884 rows\n",
      "Processed 4900 out of 7884 rows\n",
      "Processed 5000 out of 7884 rows\n",
      "Processed 5100 out of 7884 rows\n",
      "Processed 5200 out of 7884 rows\n",
      "Processed 5300 out of 7884 rows\n",
      "Processed 5400 out of 7884 rows\n",
      "Processed 5500 out of 7884 rows\n",
      "Processed 5600 out of 7884 rows\n",
      "Processed 5700 out of 7884 rows\n",
      "Processed 5800 out of 7884 rows\n",
      "Processed 5900 out of 7884 rows\n",
      "Processed 6000 out of 7884 rows\n",
      "Processed 6100 out of 7884 rows\n",
      "Processed 6200 out of 7884 rows\n",
      "Processed 6300 out of 7884 rows\n",
      "Processed 6400 out of 7884 rows\n",
      "Processed 6500 out of 7884 rows\n",
      "Processed 6600 out of 7884 rows\n",
      "Processed 6700 out of 7884 rows\n",
      "Processed 6800 out of 7884 rows\n",
      "Processed 6900 out of 7884 rows\n",
      "Processed 7000 out of 7884 rows\n",
      "Processed 7100 out of 7884 rows\n",
      "Processed 7200 out of 7884 rows\n",
      "Processed 7300 out of 7884 rows\n",
      "Processed 7400 out of 7884 rows\n",
      "Processed 7500 out of 7884 rows\n",
      "Processed 7600 out of 7884 rows\n",
      "Processed 7700 out of 7884 rows\n",
      "Processed 7800 out of 7884 rows\n",
      "0    All, please take 4 minutes to watch this video...\n",
      "1                               Wow—Thank you Charlie!\n",
      "2                                      Thanks Derrick!\n",
      "3    Garrett Ventry: “The Colorado Supreme Court ta...\n",
      "4    “Trump’s MAGA force swamps the competition in ...\n",
      "Name: post_content, dtype: object\n"
     ]
    }
   ],
   "source": [
    "from transformers import RobertaTokenizer, RobertaForSequenceClassification\n",
    "import torch\n",
    "\n",
    "# RoBERTa 모델 및 토크나이저 로드\n",
    "model_name = \"cardiffnlp/twitter-roberta-base-sentiment\"\n",
    "tokenizer = RobertaTokenizer.from_pretrained(model_name)\n",
    "model = RobertaForSequenceClassification.from_pretrained(model_name)\n",
    "\n",
    "# 평가 모드로 전환\n",
    "model.eval()\n",
    "\n",
    "# 감성 분석 함수 정의\n",
    "def classify_sentiment(text):\n",
    "    encoded_input = tokenizer(text, truncation=True, padding=True, max_length=128, return_tensors=\"pt\")\n",
    "    with torch.no_grad():\n",
    "        output = model(**encoded_input)\n",
    "        scores = torch.nn.functional.softmax(output.logits, dim=-1)[0].tolist()\n",
    "        sentiment_mapping = {0: -1, 1: 0, 2: 1}  # negative: -1, neutral: 0, positive: 1\n",
    "        sentiment_index = scores.index(max(scores))\n",
    "        sentiment = sentiment_mapping[sentiment_index]\n",
    "        return sentiment, {\n",
    "            -1: scores[0],  # negative\n",
    "            0: scores[1],   # neutral\n",
    "            1: scores[2]    # positive\n",
    "        }\n",
    "\n",
    "\n",
    "df[\"roberta_sentiment\"] = None\n",
    "\n",
    "for i, row in df.iterrows():\n",
    "    sentiment, scores = classify_sentiment(row[\"post_content\"])\n",
    "    df.at[i, \"roberta_sentiment\"] = sentiment\n",
    "    if i % 100 == 0:  # 100개마다 진행 상황 출력\n",
    "        print(f\"Processed {i} out of {len(df)} rows\")\n",
    "\n",
    "# 결과 출력\n",
    "print(df[\"post_content\"].head())\n"
   ]
  },
  {
   "cell_type": "code",
   "execution_count": 32,
   "metadata": {},
   "outputs": [
    {
     "name": "stdout",
     "output_type": "stream",
     "text": [
      "total : 7884개\n",
      "positive : 2676개\n",
      "negative : 2967개\n",
      "neutral : 2241개\n",
      "positive : 33.94216133942161%\n",
      "negative : 37.63318112633181%\n",
      "neutral : 28.424657534246577%\n"
     ]
    }
   ],
   "source": [
    "# 긍정과 부정 비율 계산\n",
    "positive_count = (df['roberta_sentiment'] == 1).sum()\n",
    "negative_count = (df['roberta_sentiment'] == -1).sum()\n",
    "neutral_count = (df['roberta_sentiment'] == 0).sum()\n",
    "\n",
    "total_count = positive_count + negative_count + neutral_count\n",
    "\n",
    "print(f'total : {total_count}개')\n",
    "print(f'positive : {positive_count}개')\n",
    "print(f'negative : {negative_count}개')\n",
    "print(f'neutral : {neutral_count}개')\n",
    "\n",
    "positive_percentage = (positive_count / total_count) * 100\n",
    "negative_percentage = (negative_count / total_count) * 100\n",
    "neutral_percentage = (neutral_count / total_count) * 100\n",
    "\n",
    "print(f'positive : {positive_percentage}%')\n",
    "print(f'negative : {negative_percentage}%')\n",
    "print(f'neutral : {neutral_percentage}%')"
   ]
  },
  {
   "cell_type": "code",
   "execution_count": 72,
   "metadata": {},
   "outputs": [
    {
     "data": {
      "text/html": [
       "<div>\n",
       "<style scoped>\n",
       "    .dataframe tbody tr th:only-of-type {\n",
       "        vertical-align: middle;\n",
       "    }\n",
       "\n",
       "    .dataframe tbody tr th {\n",
       "        vertical-align: top;\n",
       "    }\n",
       "\n",
       "    .dataframe thead th {\n",
       "        text-align: right;\n",
       "    }\n",
       "</style>\n",
       "<table border=\"1\" class=\"dataframe\">\n",
       "  <thead>\n",
       "    <tr style=\"text-align: right;\">\n",
       "      <th></th>\n",
       "      <th>status_id</th>\n",
       "      <th>author_name</th>\n",
       "      <th>user_id</th>\n",
       "      <th>post_content</th>\n",
       "      <th>vader_sentiment</th>\n",
       "      <th>roberta_sentiment</th>\n",
       "      <th>total_sentiment</th>\n",
       "    </tr>\n",
       "    <tr>\n",
       "      <th>date</th>\n",
       "      <th></th>\n",
       "      <th></th>\n",
       "      <th></th>\n",
       "      <th></th>\n",
       "      <th></th>\n",
       "      <th></th>\n",
       "      <th></th>\n",
       "    </tr>\n",
       "  </thead>\n",
       "  <tbody>\n",
       "    <tr>\n",
       "      <th>2023-12-26</th>\n",
       "      <td>7136</td>\n",
       "      <td>MSG_Jack_Dona_RET</td>\n",
       "      <td>@MSG_Jack_Dona_RET</td>\n",
       "      <td>All, please take 4 minutes to watch this video...</td>\n",
       "      <td>-1</td>\n",
       "      <td>-1</td>\n",
       "      <td>-1.0</td>\n",
       "    </tr>\n",
       "    <tr>\n",
       "      <th>2023-12-26</th>\n",
       "      <td>7228</td>\n",
       "      <td>Donald J. Trump</td>\n",
       "      <td>@realDonaldTrump</td>\n",
       "      <td>Wow—Thank you Charlie!</td>\n",
       "      <td>0</td>\n",
       "      <td>1</td>\n",
       "      <td>0.5</td>\n",
       "    </tr>\n",
       "    <tr>\n",
       "      <th>2023-12-26</th>\n",
       "      <td>7225</td>\n",
       "      <td>Donald J. Trump</td>\n",
       "      <td>@realDonaldTrump</td>\n",
       "      <td>Thanks Derrick!</td>\n",
       "      <td>1</td>\n",
       "      <td>1</td>\n",
       "      <td>1.0</td>\n",
       "    </tr>\n",
       "    <tr>\n",
       "      <th>2023-12-26</th>\n",
       "      <td>7216</td>\n",
       "      <td>Donald J. Trump</td>\n",
       "      <td>@realDonaldTrump</td>\n",
       "      <td>Garrett Ventry: “The Colorado Supreme Court ta...</td>\n",
       "      <td>1</td>\n",
       "      <td>-1</td>\n",
       "      <td>0.0</td>\n",
       "    </tr>\n",
       "    <tr>\n",
       "      <th>2023-12-26</th>\n",
       "      <td>7214</td>\n",
       "      <td>Donald J. Trump</td>\n",
       "      <td>@realDonaldTrump</td>\n",
       "      <td>“Trump’s MAGA force swamps the competition in ...</td>\n",
       "      <td>0</td>\n",
       "      <td>-1</td>\n",
       "      <td>-0.5</td>\n",
       "    </tr>\n",
       "    <tr>\n",
       "      <th>...</th>\n",
       "      <td>...</td>\n",
       "      <td>...</td>\n",
       "      <td>...</td>\n",
       "      <td>...</td>\n",
       "      <td>...</td>\n",
       "      <td>...</td>\n",
       "      <td>...</td>\n",
       "    </tr>\n",
       "    <tr>\n",
       "      <th>2024-12-25</th>\n",
       "      <td>28795</td>\n",
       "      <td>Donald J. Trump</td>\n",
       "      <td>@realDonaldTrump</td>\n",
       "      <td>Merry Christmas to all, including to the wonde...</td>\n",
       "      <td>1</td>\n",
       "      <td>0</td>\n",
       "      <td>0.5</td>\n",
       "    </tr>\n",
       "    <tr>\n",
       "      <th>2024-12-25</th>\n",
       "      <td>28796</td>\n",
       "      <td>Donald J. Trump</td>\n",
       "      <td>@realDonaldTrump</td>\n",
       "      <td>…Page 2: Merry Christmas to the Radical Left L...</td>\n",
       "      <td>1</td>\n",
       "      <td>-1</td>\n",
       "      <td>0.0</td>\n",
       "    </tr>\n",
       "    <tr>\n",
       "      <th>2024-12-25</th>\n",
       "      <td>28797</td>\n",
       "      <td>Donald J. Trump</td>\n",
       "      <td>@realDonaldTrump</td>\n",
       "      <td>I just left Wayne Gretzky, “The Great One” as ...</td>\n",
       "      <td>1</td>\n",
       "      <td>1</td>\n",
       "      <td>1.0</td>\n",
       "    </tr>\n",
       "    <tr>\n",
       "      <th>2024-12-25</th>\n",
       "      <td>28798</td>\n",
       "      <td>Donald J. Trump</td>\n",
       "      <td>@realDonaldTrump</td>\n",
       "      <td>I am pleased to announce that Kevin Marino Cab...</td>\n",
       "      <td>1</td>\n",
       "      <td>1</td>\n",
       "      <td>1.0</td>\n",
       "    </tr>\n",
       "    <tr>\n",
       "      <th>2024-12-25</th>\n",
       "      <td>28800</td>\n",
       "      <td>Donald J. Trump</td>\n",
       "      <td>@realDonaldTrump</td>\n",
       "      <td>This will be the best Christmas of our lifetim...</td>\n",
       "      <td>1</td>\n",
       "      <td>1</td>\n",
       "      <td>1.0</td>\n",
       "    </tr>\n",
       "  </tbody>\n",
       "</table>\n",
       "<p>7884 rows × 7 columns</p>\n",
       "</div>"
      ],
      "text/plain": [
       "            status_id        author_name             user_id  \\\n",
       "date                                                           \n",
       "2023-12-26       7136  MSG_Jack_Dona_RET  @MSG_Jack_Dona_RET   \n",
       "2023-12-26       7228    Donald J. Trump    @realDonaldTrump   \n",
       "2023-12-26       7225    Donald J. Trump    @realDonaldTrump   \n",
       "2023-12-26       7216    Donald J. Trump    @realDonaldTrump   \n",
       "2023-12-26       7214    Donald J. Trump    @realDonaldTrump   \n",
       "...               ...                ...                 ...   \n",
       "2024-12-25      28795    Donald J. Trump    @realDonaldTrump   \n",
       "2024-12-25      28796    Donald J. Trump    @realDonaldTrump   \n",
       "2024-12-25      28797    Donald J. Trump    @realDonaldTrump   \n",
       "2024-12-25      28798    Donald J. Trump    @realDonaldTrump   \n",
       "2024-12-25      28800    Donald J. Trump    @realDonaldTrump   \n",
       "\n",
       "                                                 post_content  \\\n",
       "date                                                            \n",
       "2023-12-26  All, please take 4 minutes to watch this video...   \n",
       "2023-12-26                             Wow—Thank you Charlie!   \n",
       "2023-12-26                                    Thanks Derrick!   \n",
       "2023-12-26  Garrett Ventry: “The Colorado Supreme Court ta...   \n",
       "2023-12-26  “Trump’s MAGA force swamps the competition in ...   \n",
       "...                                                       ...   \n",
       "2024-12-25  Merry Christmas to all, including to the wonde...   \n",
       "2024-12-25  …Page 2: Merry Christmas to the Radical Left L...   \n",
       "2024-12-25  I just left Wayne Gretzky, “The Great One” as ...   \n",
       "2024-12-25  I am pleased to announce that Kevin Marino Cab...   \n",
       "2024-12-25  This will be the best Christmas of our lifetim...   \n",
       "\n",
       "            vader_sentiment roberta_sentiment  total_sentiment  \n",
       "date                                                            \n",
       "2023-12-26               -1                -1             -1.0  \n",
       "2023-12-26                0                 1              0.5  \n",
       "2023-12-26                1                 1              1.0  \n",
       "2023-12-26                1                -1              0.0  \n",
       "2023-12-26                0                -1             -0.5  \n",
       "...                     ...               ...              ...  \n",
       "2024-12-25                1                 0              0.5  \n",
       "2024-12-25                1                -1              0.0  \n",
       "2024-12-25                1                 1              1.0  \n",
       "2024-12-25                1                 1              1.0  \n",
       "2024-12-25                1                 1              1.0  \n",
       "\n",
       "[7884 rows x 7 columns]"
      ]
     },
     "execution_count": 72,
     "metadata": {},
     "output_type": "execute_result"
    }
   ],
   "source": [
    "df"
   ]
  },
  {
   "cell_type": "code",
   "execution_count": 26,
   "metadata": {},
   "outputs": [
    {
     "data": {
      "image/png": "[encoded data removed]",
      "text/plain": [
       "<Figure size 1000x600 with 1 Axes>"
      ]
     },
     "metadata": {},
     "output_type": "display_data"
    }
   ],
   "source": [
    "import matplotlib.pyplot as plt\n",
    "\n",
    "# Sentiment distribution\n",
    "sentiment_counts = df[\"roberta_sentiment\"].value_counts()\n",
    "\n",
    "sentiment_labels = {-1: 'Negative', 0: 'Neutral', 1: 'Positive'}\n",
    "\n",
    "# 레이블로 변환\n",
    "sentiment_counts.index = sentiment_counts.index.map(sentiment_labels)\n",
    "\n",
    "# Plotting the sentiment distribution\n",
    "plt.figure(figsize=(10, 6))\n",
    "sentiment_counts.plot(kind='bar', color=['red', 'blue', 'green'])\n",
    "plt.title('Sentiment Distribution')\n",
    "plt.xlabel('Sentiment')\n",
    "plt.ylabel('Count')\n",
    "plt.xticks(rotation=0)\n",
    "plt.show()"
   ]
  },
  {
   "cell_type": "markdown",
   "metadata": {},
   "source": [
    "total sentiment 열 생성 (vader_sentiment + roberta_sentiment)"
   ]
  },
  {
   "cell_type": "code",
   "execution_count": 115,
   "metadata": {},
   "outputs": [],
   "source": [
    "# total_sentiment 열 계산\n",
    "df['total_sentiment'] = df.apply(\n",
    "    lambda row: row['roberta_sentiment'] if row['roberta_sentiment'] == row['final_vader_sentiment'] #vader 결과와 roberta 결과 같으면\n",
    "    else (row['roberta_sentiment'] + row['final_vader_sentiment']) / 2, #다른 경우 평균 값\n",
    "    axis=1)\n",
    "# 일단, 두 열의 값이 같다면 그 값으로 긍/부/중립 가져가고\n",
    "# 감성분석 결과가 다를 경우, 평균 값으로 가짐 -> -1, -0.5, 0, -0.5, 1 값을 갖게 됨"
   ]
  },
  {
   "cell_type": "code",
   "execution_count": 116,
   "metadata": {},
   "outputs": [
    {
     "name": "stdout",
     "output_type": "stream",
     "text": [
      "   status_id        author_name             user_id            post_time  \\\n",
      "0       7136  MSG_Jack_Dona_RET  @MSG_Jack_Dona_RET  2023-12-26 13:44:00   \n",
      "1       7228    Donald J. Trump    @realDonaldTrump  2023-12-26 14:11:00   \n",
      "2       7225    Donald J. Trump    @realDonaldTrump  2023-12-26 14:12:00   \n",
      "3       7216    Donald J. Trump    @realDonaldTrump  2023-12-26 14:15:00   \n",
      "4       7214    Donald J. Trump    @realDonaldTrump  2023-12-26 14:16:00   \n",
      "5       7207    Donald J. Trump    @realDonaldTrump  2023-12-26 14:24:00   \n",
      "6       7205    Donald J. Trump    @realDonaldTrump  2023-12-26 14:27:00   \n",
      "7       7185    Donald J. Trump    @realDonaldTrump  2023-12-26 14:34:00   \n",
      "8       7184    Donald J. Trump    @realDonaldTrump  2023-12-26 14:37:00   \n",
      "9       7183    Donald J. Trump    @realDonaldTrump  2023-12-26 14:38:00   \n",
      "\n",
      "                                        post_content  vader_sentiment_score  \\\n",
      "0  All, please take 4 minutes to watch this video...                -0.1511   \n",
      "1                             Wow—Thank you Charlie!                 0.0000   \n",
      "2                                    Thanks Derrick!                 0.4926   \n",
      "3  Garrett Ventry: “The Colorado Supreme Court ta...                 0.5994   \n",
      "4  “Trump’s MAGA force swamps the competition in ...                 0.0000   \n",
      "5  “Yielding to Temptation: Colorado’s Supreme Co...                 0.4019   \n",
      "6               “A New York Times Columnist Has TDS”                 0.0000   \n",
      "7  “Why, in the Coming Election, the 2020 Result ...                 0.0000   \n",
      "8  “Trump claims ‘atrocities we are witnessing in...                 0.0000   \n",
      "9  “Trump Vows U.S. Tariffs on All Foreign Import...                 0.3818   \n",
      "\n",
      "   final_vader_sentiment roberta_sentiment  total_sentiment  \n",
      "0                     -1                -1             -1.0  \n",
      "1                      0                 1              0.5  \n",
      "2                      1                 1              1.0  \n",
      "3                      1                -1              0.0  \n",
      "4                      0                -1             -0.5  \n",
      "5                      1                 0              0.5  \n",
      "6                      0                -1             -0.5  \n",
      "7                      0                 0              0.0  \n",
      "8                      0                -1             -0.5  \n",
      "9                      1                 0              0.5  \n"
     ]
    }
   ],
   "source": [
    "print(df.head(10))"
   ]
  },
  {
   "cell_type": "code",
   "execution_count": 117,
   "metadata": {},
   "outputs": [
    {
     "name": "stdout",
     "output_type": "stream",
     "text": [
      "   status_id        author_name             user_id            post_time  \\\n",
      "0       7136  MSG_Jack_Dona_RET  @MSG_Jack_Dona_RET  2023-12-26 13:44:00   \n",
      "1       7228    Donald J. Trump    @realDonaldTrump  2023-12-26 14:11:00   \n",
      "2       7225    Donald J. Trump    @realDonaldTrump  2023-12-26 14:12:00   \n",
      "3       7216    Donald J. Trump    @realDonaldTrump  2023-12-26 14:15:00   \n",
      "4       7214    Donald J. Trump    @realDonaldTrump  2023-12-26 14:16:00   \n",
      "\n",
      "                                        post_content  vader_sentiment  \\\n",
      "0  All, please take 4 minutes to watch this video...               -1   \n",
      "1                             Wow—Thank you Charlie!                0   \n",
      "2                                    Thanks Derrick!                1   \n",
      "3  Garrett Ventry: “The Colorado Supreme Court ta...                1   \n",
      "4  “Trump’s MAGA force swamps the competition in ...                0   \n",
      "\n",
      "  roberta_sentiment  total_sentiment  \n",
      "0                -1             -1.0  \n",
      "1                 1              0.5  \n",
      "2                 1              1.0  \n",
      "3                -1              0.0  \n",
      "4                -1             -0.5  \n"
     ]
    }
   ],
   "source": [
    "# vader_sentiment_score 열 삭제\n",
    "# final_vader_sentiment 열만 사용할 것이기 때문문\n",
    "df.drop(columns=['vader_sentiment_score'], inplace=True)\n",
    "\n",
    "# final_vader_sentiment 열 이름 변경\n",
    "df.rename(columns={'final_vader_sentiment': 'vader_sentiment'}, inplace=True)\n",
    "\n",
    "# 결과 출력\n",
    "print(df.head())"
   ]
  },
  {
   "cell_type": "markdown",
   "metadata": {},
   "source": [
    "df(trump tweet + sentiment analysis) 와 df_nasdaq 데이터 join\n",
    "- tweet 게시일 (post_content)을 기준으로"
   ]
  },
  {
   "cell_type": "code",
   "execution_count": 118,
   "metadata": {},
   "outputs": [
    {
     "data": {
      "text/html": [
       "<div>\n",
       "<style scoped>\n",
       "    .dataframe tbody tr th:only-of-type {\n",
       "        vertical-align: middle;\n",
       "    }\n",
       "\n",
       "    .dataframe tbody tr th {\n",
       "        vertical-align: top;\n",
       "    }\n",
       "\n",
       "    .dataframe thead th {\n",
       "        text-align: right;\n",
       "    }\n",
       "</style>\n",
       "<table border=\"1\" class=\"dataframe\">\n",
       "  <thead>\n",
       "    <tr style=\"text-align: right;\">\n",
       "      <th></th>\n",
       "      <th>status_id</th>\n",
       "      <th>author_name</th>\n",
       "      <th>user_id</th>\n",
       "      <th>day</th>\n",
       "      <th>post_content</th>\n",
       "      <th>vader_sentiment</th>\n",
       "      <th>roberta_sentiment</th>\n",
       "      <th>total_sentiment</th>\n",
       "    </tr>\n",
       "    <tr>\n",
       "      <th>date</th>\n",
       "      <th></th>\n",
       "      <th></th>\n",
       "      <th></th>\n",
       "      <th></th>\n",
       "      <th></th>\n",
       "      <th></th>\n",
       "      <th></th>\n",
       "      <th></th>\n",
       "    </tr>\n",
       "  </thead>\n",
       "  <tbody>\n",
       "    <tr>\n",
       "      <th>2023-12-26</th>\n",
       "      <td>7136</td>\n",
       "      <td>MSG_Jack_Dona_RET</td>\n",
       "      <td>@MSG_Jack_Dona_RET</td>\n",
       "      <td>2023-12-26</td>\n",
       "      <td>All, please take 4 minutes to watch this video...</td>\n",
       "      <td>-1</td>\n",
       "      <td>-1</td>\n",
       "      <td>-1.0</td>\n",
       "    </tr>\n",
       "    <tr>\n",
       "      <th>2023-12-26</th>\n",
       "      <td>7228</td>\n",
       "      <td>Donald J. Trump</td>\n",
       "      <td>@realDonaldTrump</td>\n",
       "      <td>2023-12-26</td>\n",
       "      <td>Wow—Thank you Charlie!</td>\n",
       "      <td>0</td>\n",
       "      <td>1</td>\n",
       "      <td>0.5</td>\n",
       "    </tr>\n",
       "    <tr>\n",
       "      <th>2023-12-26</th>\n",
       "      <td>7225</td>\n",
       "      <td>Donald J. Trump</td>\n",
       "      <td>@realDonaldTrump</td>\n",
       "      <td>2023-12-26</td>\n",
       "      <td>Thanks Derrick!</td>\n",
       "      <td>1</td>\n",
       "      <td>1</td>\n",
       "      <td>1.0</td>\n",
       "    </tr>\n",
       "    <tr>\n",
       "      <th>2023-12-26</th>\n",
       "      <td>7216</td>\n",
       "      <td>Donald J. Trump</td>\n",
       "      <td>@realDonaldTrump</td>\n",
       "      <td>2023-12-26</td>\n",
       "      <td>Garrett Ventry: “The Colorado Supreme Court ta...</td>\n",
       "      <td>1</td>\n",
       "      <td>-1</td>\n",
       "      <td>0.0</td>\n",
       "    </tr>\n",
       "    <tr>\n",
       "      <th>2023-12-26</th>\n",
       "      <td>7214</td>\n",
       "      <td>Donald J. Trump</td>\n",
       "      <td>@realDonaldTrump</td>\n",
       "      <td>2023-12-26</td>\n",
       "      <td>“Trump’s MAGA force swamps the competition in ...</td>\n",
       "      <td>0</td>\n",
       "      <td>-1</td>\n",
       "      <td>-0.5</td>\n",
       "    </tr>\n",
       "  </tbody>\n",
       "</table>\n",
       "</div>"
      ],
      "text/plain": [
       "            status_id        author_name             user_id         day  \\\n",
       "date                                                                       \n",
       "2023-12-26       7136  MSG_Jack_Dona_RET  @MSG_Jack_Dona_RET  2023-12-26   \n",
       "2023-12-26       7228    Donald J. Trump    @realDonaldTrump  2023-12-26   \n",
       "2023-12-26       7225    Donald J. Trump    @realDonaldTrump  2023-12-26   \n",
       "2023-12-26       7216    Donald J. Trump    @realDonaldTrump  2023-12-26   \n",
       "2023-12-26       7214    Donald J. Trump    @realDonaldTrump  2023-12-26   \n",
       "\n",
       "                                                 post_content  \\\n",
       "date                                                            \n",
       "2023-12-26  All, please take 4 minutes to watch this video...   \n",
       "2023-12-26                             Wow—Thank you Charlie!   \n",
       "2023-12-26                                    Thanks Derrick!   \n",
       "2023-12-26  Garrett Ventry: “The Colorado Supreme Court ta...   \n",
       "2023-12-26  “Trump’s MAGA force swamps the competition in ...   \n",
       "\n",
       "            vader_sentiment roberta_sentiment  total_sentiment  \n",
       "date                                                            \n",
       "2023-12-26               -1                -1             -1.0  \n",
       "2023-12-26                0                 1              0.5  \n",
       "2023-12-26                1                 1              1.0  \n",
       "2023-12-26                1                -1              0.0  \n",
       "2023-12-26                0                -1             -0.5  "
      ]
     },
     "execution_count": 118,
     "metadata": {},
     "output_type": "execute_result"
    }
   ],
   "source": [
    "# trump tweet에서 post_time 년-월-일이 일치하는 경우, 해당 일자 nasdaq 지수와 outer join\n",
    "# 이를 위해 df에서 post_time을 index로 설정\n",
    "\n",
    "df['date'] = pd.to_datetime(df['post_time']).dt.date\n",
    "df['post_time'] = df['date'] # post_time 열을 date로 대체\n",
    "df.rename(columns={'post_time': 'day'}, inplace=True) # post_time 열 이름을 day로 변경\n",
    "df.set_index('date', inplace=True)\n",
    "df.head(5)"
   ]
  },
  {
   "cell_type": "code",
   "execution_count": 119,
   "metadata": {},
   "outputs": [
    {
     "data": {
      "text/plain": [
       "Index(['status_id', 'author_name', 'user_id', 'day', 'post_content',\n",
       "       'vader_sentiment', 'roberta_sentiment', 'total_sentiment'],\n",
       "      dtype='object')"
      ]
     },
     "execution_count": 119,
     "metadata": {},
     "output_type": "execute_result"
    }
   ],
   "source": [
    "df.columns"
   ]
  },
  {
   "cell_type": "markdown",
   "metadata": {},
   "source": [
    "- outer join (nasdaq 지수가 없는 날짜는 NaN으로 지정) -> out_df, scaled_out_df"
   ]
  },
  {
   "cell_type": "code",
   "execution_count": 47,
   "metadata": {},
   "outputs": [
    {
     "name": "stdout",
     "output_type": "stream",
     "text": [
      "            status_id        author_name             user_id  \\\n",
      "date                                                           \n",
      "2023-12-26     7136.0  MSG_Jack_Dona_RET  @MSG_Jack_Dona_RET   \n",
      "2023-12-26     7228.0    Donald J. Trump    @realDonaldTrump   \n",
      "2023-12-26     7225.0    Donald J. Trump    @realDonaldTrump   \n",
      "2023-12-26     7216.0    Donald J. Trump    @realDonaldTrump   \n",
      "2023-12-26     7214.0    Donald J. Trump    @realDonaldTrump   \n",
      "\n",
      "                                                 post_content  \\\n",
      "date                                                            \n",
      "2023-12-26  All, please take 4 minutes to watch this video...   \n",
      "2023-12-26                             Wow—Thank you Charlie!   \n",
      "2023-12-26                                    Thanks Derrick!   \n",
      "2023-12-26  Garrett Ventry: “The Colorado Supreme Court ta...   \n",
      "2023-12-26  “Trump’s MAGA force swamps the competition in ...   \n",
      "\n",
      "            vader_sentiment roberta_sentiment  total_sentiment         Open  \\\n",
      "date                                                                          \n",
      "2023-12-26             -1.0                -1             -1.0  15028.69043   \n",
      "2023-12-26              0.0                 1              0.5  15028.69043   \n",
      "2023-12-26              1.0                 1              1.0  15028.69043   \n",
      "2023-12-26              1.0                -1              0.0  15028.69043   \n",
      "2023-12-26              0.0                -1             -0.5  15028.69043   \n",
      "\n",
      "                    High          Low         Close        Volume  \\\n",
      "date                                                                \n",
      "2023-12-26  15101.179688  15024.05957  15074.570312  6.120600e+09   \n",
      "2023-12-26  15101.179688  15024.05957  15074.570312  6.120600e+09   \n",
      "2023-12-26  15101.179688  15024.05957  15074.570312  6.120600e+09   \n",
      "2023-12-26  15101.179688  15024.05957  15074.570312  6.120600e+09   \n",
      "2023-12-26  15101.179688  15024.05957  15074.570312  6.120600e+09   \n",
      "\n",
      "               Adj Close  \n",
      "date                      \n",
      "2023-12-26  15074.570312  \n",
      "2023-12-26  15074.570312  \n",
      "2023-12-26  15074.570312  \n",
      "2023-12-26  15074.570312  \n",
      "2023-12-26  15074.570312  \n"
     ]
    }
   ],
   "source": [
    "out_df = df.join(df_nasdaq, how='outer')\n",
    "# outer joind으로 날짜 일치하지 않는 nasdaq 지수 행도 유지\n",
    "# 단 일치하는 날짜가 없는 경우 NaN으로 지정됨...\n",
    "\n",
    "print(out_df.head(5))"
   ]
  },
  {
   "cell_type": "code",
   "execution_count": 48,
   "metadata": {},
   "outputs": [
    {
     "data": {
      "text/plain": [
       "Index(['status_id', 'author_name', 'user_id', 'post_content',\n",
       "       'vader_sentiment', 'roberta_sentiment', 'total_sentiment', 'Open',\n",
       "       'High', 'Low', 'Close', 'Volume', 'Adj Close'],\n",
       "      dtype='object')"
      ]
     },
     "execution_count": 48,
     "metadata": {},
     "output_type": "execute_result"
    }
   ],
   "source": [
    "out_df.columns"
   ]
  },
  {
   "cell_type": "code",
   "execution_count": null,
   "metadata": {},
   "outputs": [
    {
     "name": "stdout",
     "output_type": "stream",
     "text": [
      "          Open      High       Low     Close    Volume  Adj Close  \\\n",
      "7876  0.947194  0.968913  0.965449  0.974793  0.124744   0.974793   \n",
      "7877  0.947194  0.968913  0.965449  0.974793  0.124744   0.974793   \n",
      "7878  0.947194  0.968913  0.965449  0.974793  0.124744   0.974793   \n",
      "7879       NaN       NaN       NaN       NaN       NaN        NaN   \n",
      "7880       NaN       NaN       NaN       NaN       NaN        NaN   \n",
      "7881       NaN       NaN       NaN       NaN       NaN        NaN   \n",
      "7882       NaN       NaN       NaN       NaN       NaN        NaN   \n",
      "7883       NaN       NaN       NaN       NaN       NaN        NaN   \n",
      "7884       NaN       NaN       NaN       NaN       NaN        NaN   \n",
      "7885       NaN       NaN       NaN       NaN       NaN        NaN   \n",
      "\n",
      "      vader_sentiment  roberta_sentiment  total_sentiment  \n",
      "7876              1.0                1.0             1.00  \n",
      "7877              1.0                1.0             1.00  \n",
      "7878              1.0                1.0             1.00  \n",
      "7879              1.0                1.0             1.00  \n",
      "7880              1.0                1.0             1.00  \n",
      "7881              1.0                0.5             0.75  \n",
      "7882              1.0                0.0             0.50  \n",
      "7883              1.0                1.0             1.00  \n",
      "7884              1.0                1.0             1.00  \n",
      "7885              1.0                1.0             1.00  \n"
     ]
    }
   ],
   "source": [
    "from sklearn.preprocessing import MinMaxScaler\n",
    "\n",
    "df.sort_index(ascending=False).reset_index(drop=True)\n",
    "\n",
    "#데이터 정규화\n",
    "scaler = MinMaxScaler()\n",
    "scaler_cols = ['Open', 'High', 'Low', 'Close', 'Volume', 'Adj Close',\n",
    "               'vader_sentiment', 'roberta_sentiment', 'total_sentiment']\n",
    "\n",
    "df_out_scaled = scaler.fit_transform(out_df[scaler_cols]) \n",
    "df_out_scaled = pd.DataFrame(df_out_scaled)\n",
    "df_out_scaled.columns = scaler_cols\n",
    "\n",
    "print(df_out_scaled.head(10))"
   ]
  },
  {
   "cell_type": "code",
   "execution_count": 53,
   "metadata": {},
   "outputs": [
    {
     "name": "stdout",
     "output_type": "stream",
     "text": [
      "Open                 2301\n",
      "High                 2301\n",
      "Low                  2301\n",
      "Close                2301\n",
      "Volume               2301\n",
      "Adj Close            2301\n",
      "vader_sentiment         2\n",
      "roberta_sentiment       2\n",
      "total_sentiment         2\n",
      "dtype: int64\n"
     ]
    }
   ],
   "source": [
    "print(df_out_scaled.isna().sum())"
   ]
  },
  {
   "cell_type": "markdown",
   "metadata": {},
   "source": [
    "- inner join (nasdaq 지수가 있는 날만 유지) -> in_df, scaled_in_df"
   ]
  },
  {
   "cell_type": "code",
   "execution_count": 120,
   "metadata": {},
   "outputs": [
    {
     "name": "stdout",
     "output_type": "stream",
     "text": [
      "            status_id        author_name             user_id         day  \\\n",
      "date                                                                       \n",
      "2023-12-26       7136  MSG_Jack_Dona_RET  @MSG_Jack_Dona_RET  2023-12-26   \n",
      "2023-12-26       7228    Donald J. Trump    @realDonaldTrump  2023-12-26   \n",
      "2023-12-26       7225    Donald J. Trump    @realDonaldTrump  2023-12-26   \n",
      "2023-12-26       7216    Donald J. Trump    @realDonaldTrump  2023-12-26   \n",
      "2023-12-26       7214    Donald J. Trump    @realDonaldTrump  2023-12-26   \n",
      "\n",
      "                                                 post_content  \\\n",
      "date                                                            \n",
      "2023-12-26  All, please take 4 minutes to watch this video...   \n",
      "2023-12-26                             Wow—Thank you Charlie!   \n",
      "2023-12-26                                    Thanks Derrick!   \n",
      "2023-12-26  Garrett Ventry: “The Colorado Supreme Court ta...   \n",
      "2023-12-26  “Trump’s MAGA force swamps the competition in ...   \n",
      "\n",
      "            vader_sentiment roberta_sentiment  total_sentiment         Open  \\\n",
      "date                                                                          \n",
      "2023-12-26               -1                -1             -1.0  15028.69043   \n",
      "2023-12-26                0                 1              0.5  15028.69043   \n",
      "2023-12-26                1                 1              1.0  15028.69043   \n",
      "2023-12-26                1                -1              0.0  15028.69043   \n",
      "2023-12-26                0                -1             -0.5  15028.69043   \n",
      "\n",
      "                    High          Low         Close      Volume     Adj Close  \n",
      "date                                                                           \n",
      "2023-12-26  15101.179688  15024.05957  15074.570312  6120600000  15074.570312  \n",
      "2023-12-26  15101.179688  15024.05957  15074.570312  6120600000  15074.570312  \n",
      "2023-12-26  15101.179688  15024.05957  15074.570312  6120600000  15074.570312  \n",
      "2023-12-26  15101.179688  15024.05957  15074.570312  6120600000  15074.570312  \n",
      "2023-12-26  15101.179688  15024.05957  15074.570312  6120600000  15074.570312  \n"
     ]
    }
   ],
   "source": [
    "# NaN이 너무 많은 것 같아서 inner join 시도\n",
    "in_df = df.join(df_nasdaq, how='inner')\n",
    "# inner join으로 날짜 일치하지 않는 nasdaq 지수 행 제거\n",
    "\n",
    "print(in_df.head(5))"
   ]
  },
  {
   "cell_type": "code",
   "execution_count": 125,
   "metadata": {},
   "outputs": [
    {
     "data": {
      "text/plain": [
       "Index(['status_id', 'author_name', 'user_id', 'day', 'post_content',\n",
       "       'vader_sentiment', 'roberta_sentiment', 'total_sentiment', 'Open',\n",
       "       'High', 'Low', 'Close', 'Volume', 'Adj Close'],\n",
       "      dtype='object')"
      ]
     },
     "execution_count": 125,
     "metadata": {},
     "output_type": "execute_result"
    }
   ],
   "source": [
    "in_df.columns"
   ]
  },
  {
   "cell_type": "code",
   "execution_count": 130,
   "metadata": {},
   "outputs": [
    {
     "name": "stdout",
     "output_type": "stream",
     "text": [
      "       Open      High       Low     Close    Volume  Adj Close  \\\n",
      "0  0.094139  0.085312  0.098873  0.099631  0.292827   0.099631   \n",
      "1  0.094139  0.085312  0.098873  0.099631  0.292827   0.099631   \n",
      "2  0.094139  0.085312  0.098873  0.099631  0.292827   0.099631   \n",
      "3  0.094139  0.085312  0.098873  0.099631  0.292827   0.099631   \n",
      "4  0.094139  0.085312  0.098873  0.099631  0.292827   0.099631   \n",
      "5  0.094139  0.085312  0.098873  0.099631  0.292827   0.099631   \n",
      "6  0.094139  0.085312  0.098873  0.099631  0.292827   0.099631   \n",
      "7  0.094139  0.085312  0.098873  0.099631  0.292827   0.099631   \n",
      "8  0.094139  0.085312  0.098873  0.099631  0.292827   0.099631   \n",
      "9  0.094139  0.085312  0.098873  0.099631  0.292827   0.099631   \n",
      "\n",
      "   vader_sentiment  roberta_sentiment  total_sentiment         day  \n",
      "0              0.0                0.0             0.00  2023-12-26  \n",
      "1              0.5                1.0             0.75  2023-12-26  \n",
      "2              1.0                1.0             1.00  2023-12-26  \n",
      "3              1.0                0.0             0.50  2023-12-26  \n",
      "4              0.5                0.0             0.25  2023-12-26  \n",
      "5              1.0                0.5             0.75  2023-12-26  \n",
      "6              0.5                0.0             0.25  2023-12-26  \n",
      "7              0.5                0.5             0.50  2023-12-26  \n",
      "8              0.5                0.0             0.25  2023-12-26  \n",
      "9              1.0                0.5             0.75  2023-12-26  \n"
     ]
    }
   ],
   "source": [
    "from sklearn.preprocessing import MinMaxScaler\n",
    "\n",
    "in_df.sort_index(ascending=False).reset_index(drop=True)\n",
    "\n",
    "#데이터 정규화\n",
    "scaler = MinMaxScaler()\n",
    "scaler_cols = ['Open', 'High', 'Low', 'Close', 'Volume', 'Adj Close',\n",
    "               'vader_sentiment', 'roberta_sentiment', 'total_sentiment']\n",
    "\n",
    "df_in_scaled = scaler.fit_transform(in_df[scaler_cols]) \n",
    "df_in_scaled = pd.DataFrame(df_in_scaled, columns = scaler_cols)\n",
    "\n",
    "# day 열 추가\n",
    "df_in_scaled['day'] = in_df['day'].reset_index(drop=True)\n",
    "\n",
    "print(df_in_scaled.head(10))"
   ]
  },
  {
   "cell_type": "code",
   "execution_count": 131,
   "metadata": {},
   "outputs": [
    {
     "name": "stdout",
     "output_type": "stream",
     "text": [
      "Open                 0\n",
      "High                 0\n",
      "Low                  0\n",
      "Close                0\n",
      "Volume               0\n",
      "Adj Close            0\n",
      "vader_sentiment      0\n",
      "roberta_sentiment    0\n",
      "total_sentiment      0\n",
      "day                  0\n",
      "dtype: int64\n"
     ]
    }
   ],
   "source": [
    "print(df_in_scaled.isna().sum())"
   ]
  },
  {
   "cell_type": "markdown",
   "metadata": {},
   "source": [
    "csv 파일로 저장 (정규화한 vader_sentiment, roberta_sentiment, total_sentiment 와 nasdaq 지수)"
   ]
  },
  {
   "cell_type": "code",
   "execution_count": null,
   "metadata": {},
   "outputs": [],
   "source": [
    "df_in_scaled.to_csv('nasdaq_and_sentiment_analysis.csv', index=False)"
   ]
  }
 ],
 "metadata": {
  "kernelspec": {
   "display_name": "Python 3",
   "language": "python",
   "name": "python3"
  },
  "language_info": {
   "codemirror_mode": {
    "name": "ipython",
    "version": 3
   },
   "file_extension": ".py",
   "mimetype": "text/x-python",
   "name": "python",
   "nbconvert_exporter": "python",
   "pygments_lexer": "ipython3",
   "version": "3.10.2"
  }
 },
 "nbformat": 4,
 "nbformat_minor": 2
}
